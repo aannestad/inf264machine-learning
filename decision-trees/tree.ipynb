{
 "cells": [
  {
   "cell_type": "markdown",
   "metadata": {},
   "source": [
    "# INF264 Project 1: Implementing decision trees #\n",
    "# By Hans Martin Aannestad"
   ]
  },
  {
   "cell_type": "markdown",
   "metadata": {},
   "source": [
    " ## 1.1 Implement a decision tree learning algorithm from scratch ##"
   ]
  },
  {
   "cell_type": "code",
   "execution_count": 1,
   "metadata": {},
   "outputs": [],
   "source": [
    "import numpy as np\n",
    "import matplotlib.pyplot as plt\n",
    "from matplotlib.colors import ListedColormap\n",
    "from sklearn import datasets, model_selection"
   ]
  },
  {
   "cell_type": "code",
   "execution_count": 2,
   "metadata": {
    "tags": []
   },
   "outputs": [],
   "source": [
    "# TASK 1.1 Implement a decision tree learning algorithm from scratch\n",
    "\n",
    "class Node():\n",
    "    def __init__(self): #,label):\n",
    "        self.left = None           # left subtree\n",
    "        self.right = None          # right subtree\n",
    "        self.featureIdx = 0        # col 0,1 or 2\n",
    "        self.featureThreshold = 0  # for countinous data \n",
    "        self.label = None          # 0/1 (from col 3)   # for categorical (here binary) data\n",
    "\n",
    "class DecisionTreeClassifier():\n",
    "    def __init__(self): #,dybde=1):\n",
    "        pass #self.dybde = dybde         # initialize a tree with dept zero (nodes)\n",
    "    \n",
    "    # TASK 1.1.1 learn(X, y, impurity_measure=’entropy’)\n",
    "    def learn(self, X, y, impurity_measure='entropy'): #,prune=False):\n",
    "        node = Node()\n",
    "\n",
    "        if np.all(y==y[0]):       # • If all data points have the same label\n",
    "            node.label = y[0]     # –> return a leaf with label (prediction)\n",
    "            return\n",
    "\n",
    "        elif (X == X[0]).all():    # • Else if all data points have identical feature values\n",
    "            node.label = np.bincount(y).argmax()   # –> return a leaf with the most common label\n",
    "            return                                 # (prediction)\n",
    "        else:                # • Else   – choose a feature that maximizes the 'information gain'\n",
    "            bestImpurity = 1\n",
    "            for idx in range(X.shape[1]):            # For all features\n",
    "                thr = np.mean(X[:,idx])              # use mean as threshold \n",
    "                ind_l = X[:, idx] < thr              # split each feature under/over threshold\n",
    "                X_l, y_l = X[ind_l], y[ind_l]        # left is below threshold\n",
    "                X_r, y_r = X[~ind_l], y[~ind_l]      # right is above threshold\n",
    "\n",
    "                if impurity_measure == 'entropy':                                               \n",
    "                    h = (1/2)*(self.hx(y_l)+self.hx(y_r)) # avg. entropy for L and R splits\n",
    "                elif impurity_measure == 'gini':\n",
    "                    h = (1/2)*(self.ginix(y_l)+self.ginix(y_r)) # avg. gini for L and R splits\n",
    "                else: \n",
    "                    print(\"Impurity measure: \" + str(impurity_measure) + \"not supported\")\n",
    "                    return False\n",
    "\n",
    "                if h < bestImpurity :           # pick feature with current min. impurity\n",
    "                    bestImpurity = h\n",
    "                    bestFeatureIdx = idx\n",
    "                    bestThreshold = thr\n",
    "                    bestX_l, besty_l = X_l, y_l\n",
    "                    bestX_r, besty_r = X_r, y_r\n",
    "                                     \n",
    "            node.featureIdx = bestFeatureIdx       \n",
    "            node.featureThreshold = bestThreshold\n",
    "            # ∗ call the algorithm recursively for the data points belonging to\n",
    "            #the particular branch\n",
    "            node.left = self.learn(bestX_l, besty_l, impurity_measure)\n",
    "            node.right = self.learn(bestX_r, besty_r, impurity_measure)\n",
    "\n",
    "    def hx(self,y):    # minimize entropy at each step, dont need IG\n",
    "        p = np.sum(y)/len(y)\n",
    "        if p == 0 or p == 1: return 0\n",
    "        h = -p*np.log2(p)-(1-p)*np.log2(1-p)  # calc. binary entropy\n",
    "        return h\n",
    "    \n",
    "    # TASK 1.2 Add Gini index\n",
    "    def ginix(self,y):\n",
    "        p = np.sum(y)/len(y)\n",
    "        return 1 - (p**2 + (1-p)**2)          # calc. binary GINI index \n",
    "\n",
    "    # TASK 1.1.2 predict(x, tree)\n",
    "    def predict(self, x):\n",
    "        node = self.tree\n",
    "        while node.left != None:\n",
    "            if x[node.featureIdx] < node.featureThreshold:\n",
    "                node = node.left\n",
    "            else:\n",
    "                node = node.right\n",
    "        return node.label\n",
    "\n",
    "    #1.3 Add reduced-error pruning\n",
    "\n",
    "    def prune(self, X, y):\n",
    "        pass\n",
    "    #test_predictions = tree.predict(X_test)\n",
    "    #good_test_predictions = (test_predictions == Y_test)\n",
    "    #test_acc = np.sum(good_test_predictions) / len(Y_test)\n",
    "    #X_train, X_test, Y_train, Y_test = \n",
    "    # model_selection.train_test_split(X,y,test_size=0.3 #shuffle=True)\n"
   ]
  },
  {
   "source": [
    "\n",
    "# TASK 1.4 Evaluate your algorithm\n",
    "X = np.loadtxt('data_banknote_authentication.txt', delimiter=',', usecols=[0,1,2,3])  # data matrix\n",
    "y = np.loadtxt('data_banknote_authentication.txt', delimiter=',', usecols=[4])        # label vector\n",
    "tre = DecisionTreeClassifier() # Initier tre\n",
    "tre.learn(X,y)\n",
    "#print(tre.predict([0,0,5,1.5])) # klassifiser en observasjon\n",
    "\n"
   ],
   "cell_type": "code",
   "metadata": {
    "tags": []
   },
   "execution_count": 3,
   "outputs": []
  },
  {
   "cell_type": "code",
   "execution_count": 4,
   "metadata": {
    "tags": []
   },
   "outputs": [
    {
     "output_type": "stream",
     "name": "stdout",
     "text": "Test accuracy:  0.9830097087378641\n"
    }
   ],
   "source": [
    "# 1.5 Compare to an existing implementation\n",
    "\n",
    "from sklearn import datasets, model_selection\n",
    "from sklearn.tree import DecisionTreeClassifier as SklearnDecisionTreeClassifier\n",
    "\n",
    "X = np.loadtxt('data_banknote_authentication.txt', delimiter=',', usecols=[0,1,2,3])  # data matrix\n",
    "y = np.loadtxt('data_banknote_authentication.txt', delimiter=',', usecols=[4])\n",
    "\n",
    "X_train, X_test, Y_train, Y_test = model_selection.train_test_split(X,y,test_size=0.3,shuffle=True)\n",
    "\n",
    "tree = SklearnDecisionTreeClassifier()\n",
    "tree.fit(X_train,Y_train)\n",
    "\n",
    "test_predictions = tree.predict(X_test)\n",
    "good_test_predictions = (test_predictions == Y_test)\n",
    "test_acc = np.sum(good_test_predictions) / len(Y_test)\n",
    "print(\"Test accuracy: \", test_acc)\n"
   ]
  },
  {
   "cell_type": "code",
   "execution_count": 5,
   "metadata": {
    "tags": []
   },
   "outputs": [
    {
     "output_type": "stream",
     "name": "stdout",
     "text": "The value of right leaf node: 7\nPre-oder traverse: 1-2-4-5-3-6-7-8-\nIn-order traverse: 4-2-5-1-6-3-8-7-\nPost-order traverse: 4-5-2-6-8-7-3-1-\n"
    }
   ],
   "source": [
    "# BACKGROUND: Project preparations: Binary tree traversal\n",
    "\n",
    "class Node():\n",
    "    def __init__(self, value):\n",
    "        self.value = value\n",
    "        self.right = None\n",
    "        self.left = None\n",
    "\n",
    "class BinaryTree():\n",
    "    def __init__(self, root):\n",
    "        self.root = Node(root)   # initialize tree with a root\n",
    "\n",
    "    def print_tree(self, traversal_type):\n",
    "        if traversal_type == \"preorder\":\n",
    "            return self.preorder_print(tree.root, \"\")\n",
    "        elif traversal_type == \"inorder\":\n",
    "            return self.inorder_print(tree.root, \"\")\n",
    "        elif traversal_type == \"postorder\":\n",
    "            return self.postorder_print(tree.root, \"\")\n",
    "        else:\n",
    "            print(\"traversal_type \" + str(traversal_type) + \" is not supported\")\n",
    "            return False\n",
    "\n",
    "    def preorder_print(self, currentNode, accPath):\n",
    "        \"\"\"Root -> Left -> Right\"\"\"\n",
    "        if currentNode != None:\n",
    "            accPath += (str(currentNode.value) + \"-\") # Add current node to accumulated path\n",
    "            accPath = self.preorder_print(currentNode.left, accPath) # Left subtree recursion\n",
    "            accPath = self.preorder_print(currentNode.right, accPath) # Right subtree recursion\n",
    "        return accPath\n",
    "\n",
    "    def inorder_print(self,currentNode,accPath):\n",
    "        \"\"\"Left -> Root -> Right\"\"\"\n",
    "        if currentNode != None:\n",
    "            accPath = self.inorder_print(currentNode.left, accPath)\n",
    "            accPath += (str(currentNode.value) + \"-\")\n",
    "            accPath = self.inorder_print(currentNode.right, accPath)\n",
    "        return accPath\n",
    "\n",
    "    def postorder_print(self,currentNode,accPath):\n",
    "        \"\"\"Left -> Right -> Root\"\"\"\n",
    "        if currentNode != None:\n",
    "            accPath = self.postorder_print(currentNode.left, accPath)\n",
    "            accPath = self.postorder_print(currentNode.right, accPath)\n",
    "            accPath += str(currentNode.value) + \"-\"\n",
    "        return accPath\n",
    "\n",
    "# Testing -----------------------------------------------------------\n",
    "# Build the following tree:\n",
    "\n",
    "#        1\n",
    "#      /   \\\n",
    "#    2       3\n",
    "#   /  \\    /  \\\n",
    "#  4    5  6    7  \n",
    "\n",
    "tree = BinaryTree(1)\n",
    "tree.root.left = Node(2)\n",
    "tree.root.right = Node(3)\n",
    "tree.root.left.left = Node(4)\n",
    "tree.root.left.right = Node(5)\n",
    "tree.root.right.left = Node(6)\n",
    "tree.root.right.right = Node(7)\n",
    "tree.root.right.right.left = Node(8)\n",
    "\n",
    "print(\"The value of right leaf node: \" + str(tree.root.right.right.value))\n",
    "print(\"Pre-oder traverse: \" + tree.print_tree(\"preorder\"))\n",
    "print(\"In-order traverse: \" + tree.print_tree(\"inorder\"))\n",
    "print(\"Post-order traverse: \" + tree.print_tree(\"postorder\"))"
   ]
  }
 ],
 "metadata": {
  "kernelspec": {
   "display_name": "Python 3",
   "language": "python",
   "name": "python3"
  },
  "language_info": {
   "codemirror_mode": {
    "name": "ipython",
    "version": 3
   },
   "file_extension": ".py",
   "mimetype": "text/x-python",
   "name": "python",
   "nbconvert_exporter": "python",
   "pygments_lexer": "ipython3",
   "version": "3.7.7-final"
  }
 },
 "nbformat": 4,
 "nbformat_minor": 4
}